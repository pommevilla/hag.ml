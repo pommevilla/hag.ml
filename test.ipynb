{
 "cells": [
  {
   "cell_type": "markdown",
   "source": [
    "# EDA of Cyanotoxin"
   ],
   "metadata": {
    "collapsed": false
   }
  },
  {
   "cell_type": "code",
   "execution_count": 43,
   "outputs": [],
   "source": [
    "%matplotlib inline\n",
    "\n",
    "from boruta import BorutaPy\n",
    "import pandas as pd\n",
    "import numpy as np\n",
    "import seaborn as sns\n",
    "import matplotlib.pyplot as plt\n",
    "from cyanotoxins_helpers.data_prep import separate_date_into_mdy, generate_rolling_mean, shift_columns, \\\n",
    "    read_station_lake_dictionary\n",
    "from sklearn.metrics import roc_curve, auc, roc_auc_score\n",
    "from cyanotoxins_helpers.sklearn_funcs import remove_boruta_feature, add_boruta_feature\n",
    "# plt.style.use('dark_background')\n",
    "from sklearn.ensemble import RandomForestRegressor, RandomForestClassifier\n",
    "from sklearn import preprocessing"
   ],
   "metadata": {
    "collapsed": false,
    "pycharm": {
     "name": "#%%\n"
    }
   }
  },
  {
   "cell_type": "markdown",
   "source": [
    "## Preprocessing: Data Wrangling\n",
    "\n",
    "### Station Data\n",
    "\n",
    "The station data was generated from [NOAA](https://www.ncdc.noaa.gov/cdo-web)."
   ],
   "metadata": {
    "collapsed": false
   }
  },
  {
   "cell_type": "code",
   "execution_count": 44,
   "outputs": [
    {
     "name": "stderr",
     "output_type": "stream",
     "text": [
      "c:\\users\\pvill\\repos\\cyanotoxin_paper\\.venv\\lib\\site-packages\\IPython\\core\\interactiveshell.py:3071: DtypeWarning: Columns (7,11,15,23,31,33,35,37,39,41,43,47,57) have mixed types.Specify dtype option on import or set low_memory=False.\n",
      "  has_raised = await self.run_ast_nodes(code_ast.body, cell_name,\n"
     ]
    }
   ],
   "source": [
    "station_data = pd.read_csv('./data/station_data.csv')\n",
    "# station_data = separate_date_into_mdy(station_data, col='DATE')\n",
    "station_data.dropna(subset=['DATE'], inplace=True)\n",
    "station_data['DATE'] = station_data['DATE'].astype('datetime64')\n",
    "station_data = station_data[['STATION', 'NAME', 'LATITUDE', 'LONGITUDE', 'DATE', 'PRCP',\n",
    "                             # 'AWND', 'EVAP', 'PRCP', 'TAVG', 'TMAX', 'TMIN', 'TOBS'\n",
    "                             ]].dropna()\n",
    "\n",
    "# for cat in ['PRCP', 'AWND', 'TAVG']:\n",
    "#     for i in [3, 5, 7]:\n",
    "#         new_col = '{}d_{}_rm'.format(i, cat)\n",
    "#         station_data = generate_rolling_mean(station_data, cat, i, new_col, 'STATION')"
   ],
   "metadata": {
    "collapsed": false,
    "pycharm": {
     "name": "#%%\n"
    }
   }
  },
  {
   "cell_type": "markdown",
   "source": [
    "## Lake data"
   ],
   "metadata": {
    "collapsed": false
   }
  },
  {
   "cell_type": "markdown",
   "source": [
    "#### Adding new variables"
   ],
   "metadata": {
    "collapsed": false,
    "pycharm": {
     "name": "#%% md\n"
    }
   }
  },
  {
   "cell_type": "code",
   "execution_count": 45,
   "outputs": [
    {
     "data": {
      "text/plain": "Collected Date            datetime64[ns]\nEnvironmental Location            object\nMicrocystin                      float64\nCylindrospermopsin               float64\nDNA Conc                         float64\n16S                              float64\nmcyA.M                           float64\nmcyA.P                           float64\nmcyA.A                           float64\nDOC(ppm)                         float64\nTKP (mg P/L)                     float64\northo-P (mg P/L)                 float64\nTKN (mg N/L)                     float64\nNH3 (mg N/L)                     float64\nNOx (mg N/L)                     float64\nNO2 (mg N/L)                     float64\nCl (mg Cl/L)                     float64\npH                               float64\nCategory                           int64\nWeek                               int32\nTN                               float64\nTP                               float64\nTN:TP                            float64\nTN:TP Other                      float64\nMcyA:16s                         float64\nMicrocystin_1_ahead              float64\nCategory_1_ahead                 float64\ndtype: object"
     },
     "execution_count": 45,
     "metadata": {},
     "output_type": "execute_result"
    }
   ],
   "source": [
    "import sys\n",
    "lake_data = pd.read_excel('./data/IowaDNR_2019_Data_Merged.xlsx',\n",
    "                          sheet_name='WK6-15',\n",
    "                          usecols=[i for i in range(21)],\n",
    "                          encoding=sys.getfilesystemencoding()\n",
    "                          )\n",
    "\n",
    "lake_data.dropna(subset=['Collected Date'], inplace=True)\n",
    "lake_data['Category'] = lake_data['Category'].astype(np.int64)\n",
    "lake_data['pH'] = lake_data['pH'].astype(np.float64)\n",
    "lake_data['Environmental Location'] = lake_data['Environmental Location'].astype(str)\n",
    "\n",
    "lake_data.dropna(subset=['Collected Date'], inplace=True)\n",
    "lake_data['Collected Date'] = lake_data['Collected Date'].astype('datetime64')\n",
    "lake_data['Week'] = lake_data['Label'].str.split('-').str[0].astype(int)\n",
    "lake_data.drop(['Label', 'Client Reference'], axis=1, inplace=True)\n",
    "\n",
    "lake_data['TN'] = lake_data['TKN (mg N/L)'] + lake_data['NOx (mg N/L)']\n",
    "lake_data['TP'] = lake_data['TKP (mg P/L)'] + lake_data['ortho-P (mg P/L)']\n",
    "lake_data['TN:TP'] = lake_data['TN'] / lake_data['TP']\n",
    "lake_data['TN:TP Other'] = lake_data['TN'] / lake_data['TKP (mg P/L)']\n",
    "\n",
    "lake_data['McyA:16s'] = lake_data['mcyA.M'] / lake_data['16S']\n",
    "\n",
    "lake_data = lake_data.sort_values(by=['Week'])\n",
    "\n",
    "# for i in range(3):\n",
    "#     lake_data = shift_columns(lake_data, 'Microcystin', i + 1, 'Environmental Location')\n",
    "\n",
    "lake_data = shift_columns(lake_data, 'Microcystin', 1, 'Environmental Location')\n",
    "lake_data = shift_columns(lake_data, 'Category', 1, 'Environmental Location')\n",
    "\n",
    "lake_data.dtypes"
   ],
   "metadata": {
    "collapsed": false,
    "pycharm": {
     "name": "#%%\n"
    }
   }
  },
  {
   "cell_type": "code",
   "execution_count": 46,
   "outputs": [
    {
     "data": {
      "text/plain": "['Collected Date',\n 'Environmental Location',\n 'Microcystin',\n 'Cylindrospermopsin',\n 'DNA Conc',\n '16S',\n 'mcyA.M',\n 'mcyA.P',\n 'mcyA.A',\n 'DOC(ppm)',\n 'TKP (mg P/L)',\n 'ortho-P (mg P/L)',\n 'TKN (mg N/L)',\n 'NH3 (mg N/L)',\n 'NOx (mg N/L)',\n 'NO2 (mg N/L)',\n 'Cl (mg Cl/L)',\n 'pH',\n 'Category',\n 'Week',\n 'TN',\n 'TP',\n 'TN:TP',\n 'TN:TP Other',\n 'McyA:16s',\n 'Microcystin_1_ahead',\n 'Category_1_ahead']"
     },
     "execution_count": 46,
     "metadata": {},
     "output_type": "execute_result"
    }
   ],
   "source": [
    "list(lake_data)"
   ],
   "metadata": {
    "collapsed": false,
    "pycharm": {
     "name": "#%%\n"
    }
   }
  },
  {
   "cell_type": "code",
   "execution_count": 47,
   "outputs": [
    {
     "data": {
      "text/plain": "     Week  Microcystin  Microcystin_1_ahead\n0       6        0.000                0.000\n21      6        0.127                0.000\n22      6       33.660               45.790\n23      6        0.000                0.000\n24      6        0.160                0.255\n..    ...          ...                  ...\n340    15        1.892                  NaN\n341    15        1.150                  NaN\n342    15        0.172                  NaN\n344    15        0.358                  NaN\n363    15        0.587                  NaN\n\n[364 rows x 3 columns]",
      "text/html": "<div>\n<style scoped>\n    .dataframe tbody tr th:only-of-type {\n        vertical-align: middle;\n    }\n\n    .dataframe tbody tr th {\n        vertical-align: top;\n    }\n\n    .dataframe thead th {\n        text-align: right;\n    }\n</style>\n<table border=\"1\" class=\"dataframe\">\n  <thead>\n    <tr style=\"text-align: right;\">\n      <th></th>\n      <th>Week</th>\n      <th>Microcystin</th>\n      <th>Microcystin_1_ahead</th>\n    </tr>\n  </thead>\n  <tbody>\n    <tr>\n      <th>0</th>\n      <td>6</td>\n      <td>0.000</td>\n      <td>0.000</td>\n    </tr>\n    <tr>\n      <th>21</th>\n      <td>6</td>\n      <td>0.127</td>\n      <td>0.000</td>\n    </tr>\n    <tr>\n      <th>22</th>\n      <td>6</td>\n      <td>33.660</td>\n      <td>45.790</td>\n    </tr>\n    <tr>\n      <th>23</th>\n      <td>6</td>\n      <td>0.000</td>\n      <td>0.000</td>\n    </tr>\n    <tr>\n      <th>24</th>\n      <td>6</td>\n      <td>0.160</td>\n      <td>0.255</td>\n    </tr>\n    <tr>\n      <th>...</th>\n      <td>...</td>\n      <td>...</td>\n      <td>...</td>\n    </tr>\n    <tr>\n      <th>340</th>\n      <td>15</td>\n      <td>1.892</td>\n      <td>NaN</td>\n    </tr>\n    <tr>\n      <th>341</th>\n      <td>15</td>\n      <td>1.150</td>\n      <td>NaN</td>\n    </tr>\n    <tr>\n      <th>342</th>\n      <td>15</td>\n      <td>0.172</td>\n      <td>NaN</td>\n    </tr>\n    <tr>\n      <th>344</th>\n      <td>15</td>\n      <td>0.358</td>\n      <td>NaN</td>\n    </tr>\n    <tr>\n      <th>363</th>\n      <td>15</td>\n      <td>0.587</td>\n      <td>NaN</td>\n    </tr>\n  </tbody>\n</table>\n<p>364 rows × 3 columns</p>\n</div>"
     },
     "execution_count": 47,
     "metadata": {},
     "output_type": "execute_result"
    }
   ],
   "source": [
    "microcystin_cats = ['Week'] + [col for col in lake_data if col.startswith('Microcystin')]\n",
    "lake_data.loc[:, microcystin_cats]"
   ],
   "metadata": {
    "collapsed": false,
    "pycharm": {
     "name": "#%%\n"
    }
   }
  },
  {
   "cell_type": "markdown",
   "source": [
    "## Combining the two dataframes\n",
    "\n",
    "### Getting a dictionary showing the station nearest each lake"
   ],
   "metadata": {
    "collapsed": false
   }
  },
  {
   "cell_type": "code",
   "execution_count": 48,
   "outputs": [],
   "source": [
    "station_lake_map = read_station_lake_dictionary('./data/stations_nearest_lakes')"
   ],
   "metadata": {
    "collapsed": false,
    "pycharm": {
     "name": "#%%\n"
    }
   }
  },
  {
   "cell_type": "code",
   "execution_count": 49,
   "outputs": [],
   "source": [
    "lake_data['Nearest Station'] = lake_data['Environmental Location'].map(station_lake_map)"
   ],
   "metadata": {
    "collapsed": false,
    "pycharm": {
     "name": "#%%\n"
    }
   }
  },
  {
   "cell_type": "code",
   "execution_count": 50,
   "outputs": [],
   "source": [
    "combined = pd.merge(lake_data, station_data, how='left',\n",
    "                    left_on=['Nearest Station', 'Collected Date'],\n",
    "                    right_on=['STATION', 'DATE'])"
   ],
   "metadata": {
    "collapsed": false,
    "pycharm": {
     "name": "#%%\n"
    }
   }
  },
  {
   "cell_type": "code",
   "execution_count": 51,
   "outputs": [
    {
     "data": {
      "text/plain": "['Collected Date',\n 'Environmental Location',\n 'Microcystin',\n 'Cylindrospermopsin',\n 'DNA Conc',\n '16S',\n 'mcyA.M',\n 'mcyA.P',\n 'mcyA.A',\n 'DOC(ppm)',\n 'TKP (mg P/L)',\n 'ortho-P (mg P/L)',\n 'TKN (mg N/L)',\n 'NH3 (mg N/L)',\n 'NOx (mg N/L)',\n 'NO2 (mg N/L)',\n 'Cl (mg Cl/L)',\n 'pH',\n 'Category',\n 'Week',\n 'TN',\n 'TP',\n 'TN:TP',\n 'TN:TP Other',\n 'McyA:16s',\n 'Microcystin_1_ahead',\n 'Category_1_ahead',\n 'Nearest Station',\n 'STATION',\n 'NAME',\n 'LATITUDE',\n 'LONGITUDE',\n 'DATE',\n 'PRCP']"
     },
     "execution_count": 51,
     "metadata": {},
     "output_type": "execute_result"
    }
   ],
   "source": [
    "list(combined)"
   ],
   "metadata": {
    "collapsed": false,
    "pycharm": {
     "name": "#%%\n"
    }
   }
  },
  {
   "cell_type": "markdown",
   "source": [
    "Check to see that the combined data frame has the correct number of dimensions:"
   ],
   "metadata": {
    "collapsed": false
   }
  },
  {
   "cell_type": "code",
   "execution_count": 52,
   "outputs": [
    {
     "name": "stdout",
     "output_type": "stream",
     "text": [
      "station_data dims: (33339, 6)\n",
      "lake_data dims: (364, 28)\n",
      "combined dims: (364, 34)\n"
     ]
    }
   ],
   "source": [
    "print('{} dims: {}'.format('station_data', station_data.shape))\n",
    "print('{} dims: {}'.format('lake_data', lake_data.shape))\n",
    "print('{} dims: {}'.format('combined', combined.shape))"
   ],
   "metadata": {
    "collapsed": false,
    "pycharm": {
     "name": "#%%\n"
    }
   }
  },
  {
   "cell_type": "markdown",
   "source": [
    "Pull readings from a lake to make sure that rolling means and microcystin categories are correctly calculated within the groups:"
   ],
   "metadata": {
    "collapsed": false
   }
  },
  {
   "cell_type": "code",
   "execution_count": 53,
   "outputs": [
    {
     "data": {
      "text/plain": "     Week  Microcystin  Microcystin_1_ahead Collected Date  \\\n11      6        0.052                0.030     2019-06-26   \n45      7        0.030                0.327     2019-07-02   \n82      8        0.327                1.250     2019-07-10   \n122     9        1.250                0.000     2019-07-17   \n160    10        0.000                0.023     2019-07-24   \n195    11        0.023                0.355     2019-07-31   \n228    12        0.355                0.600     2019-08-07   \n269    13        0.600                0.052     2019-08-14   \n303    14        0.052                0.188     2019-08-21   \n341    15        0.188                  NaN     2019-08-28   \n\n    Environmental Location Nearest Station  Cylindrospermopsin  \n11       Nine Eagles Beach     USW00094991               0.014  \n45       Nine Eagles Beach     USW00094991               0.027  \n82       Nine Eagles Beach     USW00094991               0.033  \n122      Nine Eagles Beach     USW00094991               0.018  \n160      Nine Eagles Beach     USW00094991               0.000  \n195      Nine Eagles Beach     USW00094991               0.007  \n228      Nine Eagles Beach     USW00094991               0.008  \n269      Nine Eagles Beach     USW00094991               0.015  \n303      Nine Eagles Beach     USW00094991               0.000  \n341      Nine Eagles Beach     USW00094991               0.000  ",
      "text/html": "<div>\n<style scoped>\n    .dataframe tbody tr th:only-of-type {\n        vertical-align: middle;\n    }\n\n    .dataframe tbody tr th {\n        vertical-align: top;\n    }\n\n    .dataframe thead th {\n        text-align: right;\n    }\n</style>\n<table border=\"1\" class=\"dataframe\">\n  <thead>\n    <tr style=\"text-align: right;\">\n      <th></th>\n      <th>Week</th>\n      <th>Microcystin</th>\n      <th>Microcystin_1_ahead</th>\n      <th>Collected Date</th>\n      <th>Environmental Location</th>\n      <th>Nearest Station</th>\n      <th>Cylindrospermopsin</th>\n    </tr>\n  </thead>\n  <tbody>\n    <tr>\n      <th>11</th>\n      <td>6</td>\n      <td>0.052</td>\n      <td>0.030</td>\n      <td>2019-06-26</td>\n      <td>Nine Eagles Beach</td>\n      <td>USW00094991</td>\n      <td>0.014</td>\n    </tr>\n    <tr>\n      <th>45</th>\n      <td>7</td>\n      <td>0.030</td>\n      <td>0.327</td>\n      <td>2019-07-02</td>\n      <td>Nine Eagles Beach</td>\n      <td>USW00094991</td>\n      <td>0.027</td>\n    </tr>\n    <tr>\n      <th>82</th>\n      <td>8</td>\n      <td>0.327</td>\n      <td>1.250</td>\n      <td>2019-07-10</td>\n      <td>Nine Eagles Beach</td>\n      <td>USW00094991</td>\n      <td>0.033</td>\n    </tr>\n    <tr>\n      <th>122</th>\n      <td>9</td>\n      <td>1.250</td>\n      <td>0.000</td>\n      <td>2019-07-17</td>\n      <td>Nine Eagles Beach</td>\n      <td>USW00094991</td>\n      <td>0.018</td>\n    </tr>\n    <tr>\n      <th>160</th>\n      <td>10</td>\n      <td>0.000</td>\n      <td>0.023</td>\n      <td>2019-07-24</td>\n      <td>Nine Eagles Beach</td>\n      <td>USW00094991</td>\n      <td>0.000</td>\n    </tr>\n    <tr>\n      <th>195</th>\n      <td>11</td>\n      <td>0.023</td>\n      <td>0.355</td>\n      <td>2019-07-31</td>\n      <td>Nine Eagles Beach</td>\n      <td>USW00094991</td>\n      <td>0.007</td>\n    </tr>\n    <tr>\n      <th>228</th>\n      <td>12</td>\n      <td>0.355</td>\n      <td>0.600</td>\n      <td>2019-08-07</td>\n      <td>Nine Eagles Beach</td>\n      <td>USW00094991</td>\n      <td>0.008</td>\n    </tr>\n    <tr>\n      <th>269</th>\n      <td>13</td>\n      <td>0.600</td>\n      <td>0.052</td>\n      <td>2019-08-14</td>\n      <td>Nine Eagles Beach</td>\n      <td>USW00094991</td>\n      <td>0.015</td>\n    </tr>\n    <tr>\n      <th>303</th>\n      <td>14</td>\n      <td>0.052</td>\n      <td>0.188</td>\n      <td>2019-08-21</td>\n      <td>Nine Eagles Beach</td>\n      <td>USW00094991</td>\n      <td>0.000</td>\n    </tr>\n    <tr>\n      <th>341</th>\n      <td>15</td>\n      <td>0.188</td>\n      <td>NaN</td>\n      <td>2019-08-28</td>\n      <td>Nine Eagles Beach</td>\n      <td>USW00094991</td>\n      <td>0.000</td>\n    </tr>\n  </tbody>\n</table>\n</div>"
     },
     "execution_count": 53,
     "metadata": {},
     "output_type": "execute_result"
    }
   ],
   "source": [
    "cats_of_interest = microcystin_cats + \\\n",
    "                   ['Collected Date', 'Environmental Location', 'Nearest Station'] + \\\n",
    "                   [col for col in combined.columns if 'rm' in col]\n",
    "\n",
    "combined[cats_of_interest].\\\n",
    "    loc[combined['Environmental Location'] == 'Nine Eagles Beach']"
   ],
   "metadata": {
    "collapsed": false,
    "pycharm": {
     "name": "#%%\n"
    }
   }
  },
  {
   "cell_type": "code",
   "execution_count": 54,
   "outputs": [
    {
     "data": {
      "text/plain": "<Figure size 720x720 with 2 Axes>",
      "image/png": "[encoded data removed]"
     },
     "metadata": {
      "needs_background": "light"
     },
     "output_type": "display_data"
    }
   ],
   "source": [
    "corr_matrix = combined.corr()\n",
    "\n",
    "fig, ax = plt.subplots(figsize=(10,10))\n",
    "sns.heatmap(corr_matrix, xticklabels=corr_matrix.columns,\n",
    "            yticklabels=corr_matrix.columns,\n",
    "            annot=False,\n",
    "            cmap='coolwarm',\n",
    "            robust=True,\n",
    "            square=True,\n",
    "            ax=ax);"
   ],
   "metadata": {
    "collapsed": false,
    "pycharm": {
     "name": "#%%\n"
    }
   }
  },
  {
   "cell_type": "markdown",
   "source": [
    "## Data prep"
   ],
   "metadata": {
    "collapsed": false
   }
  },
  {
   "cell_type": "code",
   "execution_count": 55,
   "outputs": [],
   "source": [
    "drop_cats_for_classification = [\n",
    "                                'Collected Date', 'Environmental Location',\n",
    "                                'Category', 'Week', 'Nearest Station',\n",
    "                                'STATION', 'NAME', 'LATITUDE', 'LONGITUDE', 'DATE',\n",
    "                                'Microcystin_1_ahead',\n",
    "                                'Cylindrospermopsin',\n",
    "                                'DNA Conc',\n",
    "                                'Microcystin',\n",
    "                                # '5d_PRCP_rm', '7d_PRCP_rm',\n",
    "                                # '5d_AWND_rm', '7d_AWND_rm',\n",
    "                                # '3d_TAVG_rm', '5d_TAVG_rm', '7d_TAVG_rm',\n",
    "                                # 'TOBS', 'TAVG', 'TMAX', 'TMIN'\n",
    "                                ]\n",
    "target = 'Category_1_ahead'"
   ],
   "metadata": {
    "collapsed": false,
    "pycharm": {
     "name": "#%%\n"
    }
   }
  },
  {
   "cell_type": "code",
   "execution_count": 56,
   "outputs": [],
   "source": [
    "x_pre = combined.drop(columns=drop_cats_for_classification, axis=1).dropna()\n",
    "y = x_pre[target].values\n",
    "# x_pre = (x_pre - x_pre.mean()) / (x_pre.max() - x_pre.min() + 1)\n",
    "x = x_pre.drop(columns=[target], axis = 1).values\n",
    "\n",
    "from sklearn import preprocessing\n",
    "min_max_scaler = preprocessing.StandardScaler()\n",
    "x = min_max_scaler.fit_transform(x)\n",
    "\n",
    "y = y.ravel()"
   ],
   "metadata": {
    "collapsed": false,
    "pycharm": {
     "name": "#%%\n"
    }
   }
  },
  {
   "cell_type": "code",
   "execution_count": 57,
   "outputs": [
    {
     "name": "stdout",
     "output_type": "stream",
     "text": [
      "Number of categories dropped: 14\n",
      "(364, 34)\n",
      "(248, 19)\n",
      "(248,)\n"
     ]
    }
   ],
   "source": [
    "print('Number of categories dropped: {}'.format(len(drop_cats_for_classification)))\n",
    "print(combined.shape)\n",
    "print(x.shape)\n",
    "print(y.shape)"
   ],
   "metadata": {
    "collapsed": false,
    "pycharm": {
     "name": "#%%\n"
    }
   }
  },
  {
   "cell_type": "markdown",
   "source": [
    "## Boruta feature selection"
   ],
   "metadata": {
    "collapsed": false
   }
  },
  {
   "cell_type": "code",
   "execution_count": 58,
   "outputs": [
    {
     "data": {
      "text/plain": "BorutaPy(estimator=RandomForestClassifier(max_depth=5, n_estimators=89,\n                                          n_jobs=-1,\n                                          random_state=RandomState(MT19937) at 0x1BB3552F740),\n         n_estimators='auto',\n         random_state=RandomState(MT19937) at 0x1BB3552F740)"
     },
     "execution_count": 58,
     "metadata": {},
     "output_type": "execute_result"
    }
   ],
   "source": [
    "rf = RandomForestClassifier(n_jobs=-1,\n",
    "                           # class_weight='balanced',\n",
    "                           max_depth=5)\n",
    "\n",
    "feat_selector = BorutaPy(rf, n_estimators='auto',\n",
    "                         verbose=0,\n",
    "                         max_iter=100,\n",
    "                         random_state=489)\n",
    "\n",
    "feat_selector.fit(x, y)"
   ],
   "metadata": {
    "collapsed": false,
    "pycharm": {
     "name": "#%%\n"
    }
   }
  },
  {
   "cell_type": "code",
   "execution_count": 59,
   "outputs": [],
   "source": [
    "# for i, cat in enumerate(list(x_pre)):\n",
    "#     print('{}\\t{}'.format(i, cat))"
   ],
   "metadata": {
    "collapsed": false,
    "pycharm": {
     "name": "#%%\n"
    }
   }
  },
  {
   "cell_type": "code",
   "execution_count": 60,
   "outputs": [
    {
     "name": "stdout",
     "output_type": "stream",
     "text": [
      "kept_categories\t11\n",
      "support\t11\n",
      "weak_support\t0\n",
      "The features selected as important by Boruta were: \n",
      "\tmcyA.M\n",
      "\tDOC(ppm)\n",
      "\tortho-P (mg P/L)\n",
      "\tTKN (mg N/L)\n",
      "\tCl (mg Cl/L)\n",
      "\tpH\n",
      "\tTN\n",
      "\tTP\n",
      "\tTN:TP\n",
      "\tMcyA:16s\n",
      "\tPRCP\n"
     ]
    }
   ],
   "source": [
    "from itertools import compress\n",
    "\n",
    "## Adding TN:TP, PRCP manually\n",
    "add_boruta_feature(feat_selector, list(x_pre).index('TN:TP'))\n",
    "add_boruta_feature(feat_selector, -1)\n",
    "\n",
    "kept_categories = feat_selector.support_ | feat_selector.support_weak_\n",
    "boruta_selected_features = list(compress(list(x_pre.drop(columns=[target], axis=1)), kept_categories))\n",
    "\n",
    "print('kept_categories\\t{}\\nsupport\\t{}\\nweak_support\\t{}'.format(\n",
    "    sum(kept_categories), sum(feat_selector.support_), sum(feat_selector.support_weak_)\n",
    "))\n",
    "\n",
    "print('The features selected as important by Boruta were: \\n\\t{}'.format(\n",
    "    '\\n\\t'.join(boruta_selected_features)\n",
    "))\n"
   ],
   "metadata": {
    "collapsed": false,
    "pycharm": {
     "name": "#%%\n"
    }
   }
  },
  {
   "cell_type": "code",
   "execution_count": 61,
   "outputs": [
    {
     "name": "stdout",
     "output_type": "stream",
     "text": [
      "Number of paramaters before Boruta selection: 19\n",
      "Number of paramaters after Boruta selection: 11\n"
     ]
    }
   ],
   "source": [
    "x_filtered = feat_selector.transform(x, weak=True)\n",
    "print('Number of paramaters before Boruta selection: {}'.format(x.shape[1]))\n",
    "print('Number of paramaters after Boruta selection: {}'.format(x_filtered.shape[1]))"
   ],
   "metadata": {
    "collapsed": false,
    "pycharm": {
     "name": "#%%\n"
    }
   }
  },
  {
   "cell_type": "markdown",
   "source": [
    "## Random Forest Training"
   ],
   "metadata": {
    "collapsed": false
   }
  },
  {
   "cell_type": "code",
   "execution_count": 62,
   "outputs": [
    {
     "name": "stdout",
     "output_type": "stream",
     "text": [
      "Dimensions:\n",
      "X_filtered:\t(248, 11)\tX_training (173, 11)\tX_testing: (75, 11)\n",
      "Y:\t\t(248,)\t\tY_training (173,)\tY_testing: (75,)\n"
     ]
    }
   ],
   "source": [
    "from sklearn.model_selection import train_test_split\n",
    "x_training, x_test, y_training, y_test = train_test_split(x_filtered, y,\n",
    "                                                          test_size=0.30,\n",
    "                                                          stratify=y)\n",
    "\n",
    "print('Dimensions:')\n",
    "print('X_filtered:\\t{}\\tX_training {}\\tX_testing: {}'.format(x_filtered.shape, x_training.shape, x_test.shape))\n",
    "print('Y:\\t\\t{}\\t\\tY_training {}\\tY_testing: {}'.format(y.shape, y_training.shape, y_test.shape))"
   ],
   "metadata": {
    "collapsed": false,
    "pycharm": {
     "name": "#%%\n"
    }
   }
  },
  {
   "cell_type": "code",
   "execution_count": 63,
   "outputs": [],
   "source": [
    "rf_classifier = RandomForestClassifier(random_state = 489,\n",
    "                                       max_depth=5,\n",
    "                                       n_jobs=-1,\n",
    "                                       class_weight='balanced',\n",
    "                                       n_estimators=1000)\n",
    "\n",
    "rf_classifier.fit(x_training, y_training)\n",
    "predictions = rf_classifier.predict(x_test)"
   ],
   "metadata": {
    "collapsed": false,
    "pycharm": {
     "name": "#%%\n"
    }
   }
  },
  {
   "cell_type": "code",
   "execution_count": 64,
   "outputs": [
    {
     "name": "stdout",
     "output_type": "stream",
     "text": [
      "Random forest classifier performance:\n",
      "\tTraining set: 0.9653179190751445\n",
      "OOB score: False\n",
      "\tTest set: 0.7733333333333333\n"
     ]
    }
   ],
   "source": [
    "training_score = rf_classifier.score(x_training, y_training)\n",
    "oob_score = rf_classifier.oob_score\n",
    "test_score = rf_classifier.score(x_test, y_test)\n",
    "\n",
    "print('Random forest classifier performance:')\n",
    "print('\\tTraining set: {}'.format(training_score))\n",
    "print('OOB score: {}'.format(oob_score))\n",
    "print('\\tTest set: {}'.format(test_score))"
   ],
   "metadata": {
    "collapsed": false,
    "pycharm": {
     "name": "#%%\n"
    }
   }
  },
  {
   "cell_type": "markdown",
   "source": [
    "### Feature importances"
   ],
   "metadata": {
    "collapsed": false
   }
  },
  {
   "cell_type": "code",
   "execution_count": 72,
   "outputs": [],
   "source": [
    "rf_feature_importances = rf_classifier.feature_importances_\n",
    "indices = np.argsort(rf_feature_importances)\n",
    "\n",
    "plt.title('Feature Importances: Random Forest Model')\n",
    "plt.barh(range(len(indices)), rf_feature_importances[indices], align='center')\n",
    "plt.yticks(range(len(indices)), [boruta_selected_features[i] for i in indices])\n",
    "plt.xlabel('Relative Importance')\n",
    "# plt.show()\n",
    "\n",
    "plt.savefig('random_forest_feature_importances.png', bbox_inches='tight', dpi=fig.dpi)"
   ],
   "metadata": {
    "collapsed": false,
    "pycharm": {
     "name": "#%%\n"
    }
   }
  },
  {
   "cell_type": "code",
   "execution_count": 71,
   "outputs": [
    {
     "data": {
      "text/plain": "<Figure size 432x288 with 0 Axes>"
     },
     "metadata": {},
     "output_type": "display_data"
    }
   ],
   "source": [
    "plt.savefig('test.png')"
   ],
   "metadata": {
    "collapsed": false,
    "pycharm": {
     "name": "#%%\n"
    }
   }
  },
  {
   "cell_type": "markdown",
   "source": [
    "## Compared to Random Forest without parameter pre-selection\n"
   ],
   "metadata": {
    "collapsed": false
   }
  },
  {
   "cell_type": "code",
   "execution_count": null,
   "outputs": [],
   "source": [
    "x_training_2, x_test_2, y_training_2, y_test_2 = train_test_split(x, y,\n",
    "                                                          test_size=0.30,\n",
    "                                                          stratify=y)\n",
    "rf_classifier_2 = RandomForestClassifier(random_state = 489,\n",
    "                                       max_depth=5,\n",
    "                                       n_jobs=-1,\n",
    "                                       class_weight='balanced',\n",
    "                                       n_estimators=1000)\n",
    "rf_classifier_2.fit(x_training_2, y_training_2)"
   ],
   "metadata": {
    "collapsed": false,
    "pycharm": {
     "name": "#%%\n"
    }
   }
  },
  {
   "cell_type": "code",
   "execution_count": null,
   "outputs": [],
   "source": [
    "print('Dimensions:')\n",
    "print('X_filtered:\\t{}\\tX_training {}\\tX_testing: {}'.format(x_filtered.shape, x_training.shape, x_test.shape))\n",
    "print('Y:\\t\\t{}\\t\\tY_training {}\\tY_testing: {}'.format(y.shape, y_training.shape, y_test.shape))"
   ],
   "metadata": {
    "collapsed": false,
    "pycharm": {
     "name": "#%%\n"
    }
   }
  },
  {
   "cell_type": "markdown",
   "source": [
    "## Predictions"
   ],
   "metadata": {
    "collapsed": false
   }
  },
  {
   "cell_type": "code",
   "execution_count": null,
   "outputs": [],
   "source": [
    "predictions_2 = rf_classifier_2.predict(x_test_2)\n",
    "training_score_2 = rf_classifier_2.score(x_training_2, y_training_2)\n",
    "oob_score_2 = rf_classifier_2.oob_score\n",
    "test_score_2 = rf_classifier_2.score(x_test_2, y_test_2)\n",
    "\n",
    "print('Random forest classifier performance:')\n",
    "print('\\tTraining set: {}'.format(training_score_2))\n",
    "print('OOB score: {}'.format(oob_score_2))\n",
    "print('\\tTest set: {}'.format(test_score_2))\n"
   ],
   "metadata": {
    "collapsed": false,
    "pycharm": {
     "name": "#%%\n"
    }
   }
  },
  {
   "cell_type": "code",
   "execution_count": null,
   "outputs": [],
   "source": [
    "# ROC AUC\n",
    "\n",
    "predictions_2"
   ],
   "metadata": {
    "collapsed": false,
    "pycharm": {
     "name": "#%%\n"
    }
   }
  },
  {
   "cell_type": "markdown",
   "source": [
    "## Regression: Predicting Microcystin 1 Week Ahead"
   ],
   "metadata": {
    "collapsed": false
   }
  },
  {
   "cell_type": "code",
   "execution_count": null,
   "outputs": [],
   "source": [
    "drop_cats_for_classification = [\n",
    "                                'Collected Date', 'Environmental Location',\n",
    "                                'Category', 'Week', 'Nearest Station',\n",
    "                                'STATION', 'NAME', 'LATITUDE', 'LONGITUDE', 'DATE',\n",
    "                                'Category_1_ahead',\n",
    "                                'Cylindrospermopsin',\n",
    "                                'DNA Conc',\n",
    "                                'Microcystin',\n",
    "                                # '5d_PRCP_rm', '7d_PRCP_rm',\n",
    "                                # '5d_AWND_rm', '7d_AWND_rm',\n",
    "                                # '3d_TAVG_rm', '5d_TAVG_rm', '7d_TAVG_rm',\n",
    "                                # 'TOBS', 'TAVG', 'TMAX', 'TMIN'\n",
    "                                ]\n",
    "target = 'Microcystin_1_ahead'"
   ],
   "metadata": {
    "collapsed": false,
    "pycharm": {
     "name": "#%%\n"
    }
   }
  },
  {
   "cell_type": "code",
   "execution_count": null,
   "outputs": [],
   "source": [
    "x_pre = combined.drop(columns=drop_cats_for_classification, axis=1).dropna()\n",
    "y = x_pre[target].values\n",
    "x = x_pre.drop(columns=[target], axis = 1).values\n",
    "\n",
    "min_max_scaler = preprocessing.StandardScaler()\n",
    "x = min_max_scaler.fit_transform(x)\n",
    "\n",
    "y = y.ravel()"
   ],
   "metadata": {
    "collapsed": false,
    "pycharm": {
     "name": "#%%\n"
    }
   }
  },
  {
   "cell_type": "code",
   "execution_count": null,
   "outputs": [],
   "source": [
    "print('Number of categories dropped: {}'.format(len(drop_cats_for_classification)))\n",
    "print(combined.shape)\n",
    "print(x.shape)\n",
    "print(y.shape)"
   ],
   "metadata": {
    "collapsed": false,
    "pycharm": {
     "name": "#%%\n"
    }
   }
  },
  {
   "cell_type": "markdown",
   "source": [
    "## Boruta feature selection"
   ],
   "metadata": {
    "collapsed": false
   }
  },
  {
   "cell_type": "code",
   "execution_count": null,
   "outputs": [],
   "source": [
    "rf = RandomForestRegressor(n_jobs=-1,\n",
    "                           # class_weight='balanced',\n",
    "                           max_depth=5)\n",
    "\n",
    "feat_selector = BorutaPy(rf, n_estimators='auto',\n",
    "                         verbose=0,\n",
    "                         max_iter=100,\n",
    "                         random_state=489)\n",
    "\n",
    "\n",
    "feat_selector.fit(x, y)\n"
   ],
   "metadata": {
    "collapsed": false,
    "pycharm": {
     "name": "#%%\n"
    }
   }
  },
  {
   "cell_type": "code",
   "execution_count": null,
   "outputs": [],
   "source": [
    "## Adding TN:TP, PRCP manually\n",
    "add_boruta_feature(feat_selector, list(x_pre).index('TN:TP Other'))\n",
    "# add_boruta_feature(feat_selector, -1)\n",
    "\n",
    "kept_categories = feat_selector.support_ | feat_selector.support_weak_\n",
    "boruta_selected_features = list(compress(list(x_pre.drop(columns=[target], axis=1)), kept_categories))\n",
    "\n",
    "print('kept_categories\\t{}\\nsupport\\t{}\\nweak_support\\t{}'.format(\n",
    "    sum(kept_categories), sum(feat_selector.support_), sum(feat_selector.support_weak_)\n",
    "))\n",
    "\n",
    "print('The features selected as important by Boruta were: \\n\\t{}'.format(\n",
    "    '\\n\\t'.join(boruta_selected_features)\n",
    "))\n"
   ],
   "metadata": {
    "collapsed": false,
    "pycharm": {
     "name": "#%%\n"
    }
   }
  },
  {
   "cell_type": "code",
   "execution_count": null,
   "outputs": [],
   "source": [
    "x_filtered = feat_selector.transform(x, weak=True)\n",
    "print('Number of paramaters before Boruta selection: {}'.format(x.shape[1]))\n",
    "print('Number of paramaters after Boruta selection: {}'.format(x_filtered.shape[1]))"
   ],
   "metadata": {
    "collapsed": false,
    "pycharm": {
     "name": "#%%\n"
    }
   }
  },
  {
   "cell_type": "markdown",
   "source": [
    "## Random Forest Training"
   ],
   "metadata": {
    "collapsed": false
   }
  },
  {
   "cell_type": "code",
   "execution_count": null,
   "outputs": [],
   "source": [
    "from sklearn.model_selection import train_test_split\n",
    "x_training, x_test, y_training, y_test = train_test_split(x_filtered, y,\n",
    "                                                          test_size=0.30)\n",
    "\n",
    "print('Dimensions:')\n",
    "print('X_filtered:\\t{}\\tX_training {}\\tX_testing: {}'.format(x_filtered.shape, x_training.shape, x_test.shape))\n",
    "print('Y:\\t\\t{}\\t\\tY_training {}\\tY_testing: {}'.format(y.shape, y_training.shape, y_test.shape))"
   ],
   "metadata": {
    "collapsed": false,
    "pycharm": {
     "name": "#%%\n"
    }
   }
  },
  {
   "cell_type": "code",
   "execution_count": null,
   "outputs": [],
   "source": [
    "rf_regressor = RandomForestRegressor(random_state = 489,\n",
    "                                       max_depth=5,\n",
    "                                       n_jobs=-1,\n",
    "                                       n_estimators=1000)\n",
    "\n",
    "rf_regressor.fit(x_training, y_training)\n",
    "predictions = rf_regressor.predict(x_test)"
   ],
   "metadata": {
    "collapsed": false,
    "pycharm": {
     "name": "#%%\n"
    }
   }
  },
  {
   "cell_type": "code",
   "execution_count": null,
   "outputs": [],
   "source": [
    "training_score = rf_regressor.score(x_training, y_training)\n",
    "oob_score = rf_regressor.oob_score\n",
    "test_score = rf_regressor.score(x_test, y_test)\n",
    "\n",
    "print('Random forest regressor performance:')\n",
    "print('\\tTraining set: {}'.format(training_score))\n",
    "print('OOB score: {}'.format(oob_score))\n",
    "print('\\tTest set: {}'.format(test_score))\n"
   ],
   "metadata": {
    "collapsed": false,
    "pycharm": {
     "name": "#%%\n"
    }
   }
  },
  {
   "cell_type": "code",
   "execution_count": null,
   "outputs": [],
   "source": [
    "# ROC AUC\n",
    "\n",
    "predictions\n"
   ],
   "metadata": {
    "collapsed": false,
    "pycharm": {
     "name": "#%%\n"
    }
   }
  },
  {
   "cell_type": "markdown",
   "source": [
    "### Feature importances"
   ],
   "metadata": {
    "collapsed": false
   }
  },
  {
   "cell_type": "code",
   "execution_count": null,
   "outputs": [],
   "source": [
    "rf_feature_importances = rf_regressor.feature_importances_\n",
    "indices = np.argsort(rf_feature_importances)\n",
    "plt.style.use('seaborn-pastel')\n",
    "plt.title('Feature Importances: Random Forest Model')\n",
    "plt.barh(range(len(indices)), rf_feature_importances[indices], align='center')\n",
    "plt.yticks(range(len(indices)), [boruta_selected_features[i] for i in indices])\n",
    "plt.xlabel('Relative Importance')\n",
    "plt.show()\n"
   ],
   "metadata": {
    "collapsed": false,
    "pycharm": {
     "name": "#%%\n"
    }
   }
  },
  {
   "cell_type": "code",
   "execution_count": null,
   "outputs": [],
   "source": [
    "feat_importances = pd.Series(rf_feature_importances, index=boruta_selected_features)\n",
    "feat_importances.nlargest(5).plot(kind='barh');"
   ],
   "metadata": {
    "collapsed": false,
    "pycharm": {
     "name": "#%%\n"
    }
   }
  }
 ],
 "metadata": {
  "kernelspec": {
   "display_name": "Python 3",
   "language": "python",
   "name": "python3"
  },
  "language_info": {
   "codemirror_mode": {
    "name": "ipython",
    "version": 3
   },
   "file_extension": ".py",
   "mimetype": "text/x-python",
   "name": "python",
   "nbconvert_exporter": "python",
   "pygments_lexer": "ipython3",
   "version": "3.8.3"
  }
 },
 "nbformat": 4,
 "nbformat_minor": 1
}